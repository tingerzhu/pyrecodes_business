{
 "cells": [
  {
   "cell_type": "markdown",
   "metadata": {},
   "source": [
    "# Example 5: Recovery of the Alameda Island using R2D damage estimates and third-party infrastructure simulators."
   ]
  },
  {
   "cell_type": "markdown",
   "metadata": {},
   "source": [
    "Example 5 shows how **pyrecodes** extends NHERI R2D's damage assessment to simulate recovery and integrate third-party infrastructure simulators of water supply systems and transportation systems to assess their interdependencies. Sparse distribution time stepping is used. \n",
    "\n",
    "Please refer to the **pyrecodes** [Example 5 page](https://nikolablagojevic.github.io/pyrecodes/html/usage/examples/example_5.html) for further details."
   ]
  },
  {
   "cell_type": "code",
   "execution_count": 1,
   "metadata": {},
   "outputs": [
    {
     "name": "stdout",
     "output_type": "stream",
     "text": [
      "Repair time is 0 for component 1619. Setting it to default value of 30 days.\n",
      "Repair time is 0 for component 2053. Setting it to default value of 30 days.\n"
     ]
    },
    {
     "ename": "AttributeError",
     "evalue": "'pyrecodes_residual_demand' object has no attribute 'building_df'",
     "output_type": "error",
     "traceback": [
      "\u001b[1;31m---------------------------------------------------------------------------\u001b[0m",
      "\u001b[1;31mAttributeError\u001b[0m                            Traceback (most recent call last)",
      "Cell \u001b[1;32mIn[1], line 3\u001b[0m\n\u001b[0;32m      1\u001b[0m \u001b[38;5;28;01mfrom\u001b[39;00m\u001b[38;5;250m \u001b[39m\u001b[38;5;21;01mpyrecodes\u001b[39;00m\u001b[38;5;250m \u001b[39m\u001b[38;5;28;01mimport\u001b[39;00m main\n\u001b[1;32m----> 3\u001b[0m system \u001b[38;5;241m=\u001b[39m \u001b[43mmain\u001b[49m\u001b[38;5;241;43m.\u001b[39;49m\u001b[43mrun\u001b[49m\u001b[43m(\u001b[49m\u001b[38;5;124;43m'\u001b[39;49m\u001b[38;5;124;43m./Example 5_business/SmallAlameda_Main.json\u001b[39;49m\u001b[38;5;124;43m'\u001b[39;49m\u001b[43m)\u001b[49m\n\u001b[0;32m      4\u001b[0m \u001b[38;5;66;03m# system = main.run('./Example 5_business/Alameda_Main.json')\u001b[39;00m\n\u001b[0;32m      6\u001b[0m system\u001b[38;5;241m.\u001b[39mcalculate_resilience()\n",
      "File \u001b[1;32mc:\\Users\\zhut\\OneDrive - Stanford\\Research\\02 Work\\05 Commercial downtime\\Pyrecodes\\pyrecodes-main\\pyrecodes\\main.py:60\u001b[0m, in \u001b[0;36mrun\u001b[1;34m(main_file)\u001b[0m\n\u001b[0;32m     58\u001b[0m input_dict \u001b[38;5;241m=\u001b[39m read_json_file(main_file)    \n\u001b[0;32m     59\u001b[0m \u001b[38;5;66;03m# Create the system object using the input dictionary.\u001b[39;00m\n\u001b[1;32m---> 60\u001b[0m system \u001b[38;5;241m=\u001b[39m \u001b[43mcreate_system\u001b[49m\u001b[43m(\u001b[49m\u001b[43minput_dict\u001b[49m\u001b[43m)\u001b[49m\n\u001b[0;32m     61\u001b[0m \u001b[38;5;66;03m# Start the resilience assessment for the system.\u001b[39;00m\n\u001b[0;32m     62\u001b[0m system\u001b[38;5;241m.\u001b[39mstart_resilience_assessment()\n",
      "File \u001b[1;32mc:\\Users\\zhut\\OneDrive - Stanford\\Research\\02 Work\\05 Commercial downtime\\Pyrecodes\\pyrecodes-main\\pyrecodes\\main.py:45\u001b[0m, in \u001b[0;36mcreate_system\u001b[1;34m(input_dict)\u001b[0m\n\u001b[0;32m     43\u001b[0m system_target_class \u001b[38;5;241m=\u001b[39m get_class(input_dict[\u001b[38;5;124m'\u001b[39m\u001b[38;5;124mSystem\u001b[39m\u001b[38;5;124m'\u001b[39m][\u001b[38;5;124m'\u001b[39m\u001b[38;5;124mSystemFileName\u001b[39m\u001b[38;5;124m'\u001b[39m], input_dict[\u001b[38;5;124m'\u001b[39m\u001b[38;5;124mSystem\u001b[39m\u001b[38;5;124m'\u001b[39m][\u001b[38;5;124m'\u001b[39m\u001b[38;5;124mSystemClassName\u001b[39m\u001b[38;5;124m'\u001b[39m], \u001b[38;5;124m'\u001b[39m\u001b[38;5;124msystem\u001b[39m\u001b[38;5;124m'\u001b[39m)\n\u001b[0;32m     44\u001b[0m system \u001b[38;5;241m=\u001b[39m system_target_class(system_configuration, component_library, system_creator)\n\u001b[1;32m---> 45\u001b[0m \u001b[43msystem\u001b[49m\u001b[38;5;241;43m.\u001b[39;49m\u001b[43mcreate_system\u001b[49m\u001b[43m(\u001b[49m\u001b[43m)\u001b[49m\n\u001b[0;32m     46\u001b[0m \u001b[38;5;28;01mreturn\u001b[39;00m system\n",
      "File \u001b[1;32mc:\\Users\\zhut\\OneDrive - Stanford\\Research\\02 Work\\05 Commercial downtime\\Pyrecodes\\pyrecodes-main\\pyrecodes\\system\\built_environment.py:87\u001b[0m, in \u001b[0;36mBuiltEnvironment.create_system\u001b[1;34m(self)\u001b[0m\n\u001b[0;32m     85\u001b[0m \u001b[38;5;28mself\u001b[39m\u001b[38;5;241m.\u001b[39msystem_creator\u001b[38;5;241m.\u001b[39msetup(\u001b[38;5;28mself\u001b[39m\u001b[38;5;241m.\u001b[39mcomponent_library, \u001b[38;5;28mself\u001b[39m\u001b[38;5;241m.\u001b[39msystem_configuration)\n\u001b[0;32m     86\u001b[0m \u001b[38;5;28mself\u001b[39m\u001b[38;5;241m.\u001b[39mcomponents \u001b[38;5;241m=\u001b[39m \u001b[38;5;28mself\u001b[39m\u001b[38;5;241m.\u001b[39msystem_creator\u001b[38;5;241m.\u001b[39mcreate_components()\n\u001b[1;32m---> 87\u001b[0m \u001b[38;5;28mself\u001b[39m\u001b[38;5;241m.\u001b[39mresources \u001b[38;5;241m=\u001b[39m \u001b[38;5;28;43mself\u001b[39;49m\u001b[38;5;241;43m.\u001b[39;49m\u001b[43msystem_creator\u001b[49m\u001b[38;5;241;43m.\u001b[39;49m\u001b[43mget_resource_parameters\u001b[49m\u001b[43m(\u001b[49m\u001b[38;5;28;43mself\u001b[39;49m\u001b[38;5;241;43m.\u001b[39;49m\u001b[43mcomponents\u001b[49m\u001b[43m)\u001b[49m\n\u001b[0;32m     88\u001b[0m \u001b[38;5;28mself\u001b[39m\u001b[38;5;241m.\u001b[39mresilience_calculators \u001b[38;5;241m=\u001b[39m \u001b[38;5;28mself\u001b[39m\u001b[38;5;241m.\u001b[39msystem_creator\u001b[38;5;241m.\u001b[39mget_resilience_calculators()\n\u001b[0;32m     89\u001b[0m \u001b[38;5;28mself\u001b[39m\u001b[38;5;241m.\u001b[39mSTART_TIME_STEP \u001b[38;5;241m=\u001b[39m \u001b[38;5;28mself\u001b[39m\u001b[38;5;241m.\u001b[39msystem_creator\u001b[38;5;241m.\u001b[39mSTART_TIME_STEP\n",
      "File \u001b[1;32mc:\\Users\\zhut\\OneDrive - Stanford\\Research\\02 Work\\05 Commercial downtime\\Pyrecodes\\pyrecodes-main\\pyrecodes\\system_creator\\concrete_system_creator.py:79\u001b[0m, in \u001b[0;36mConcreteSystemCreator.get_resource_parameters\u001b[1;34m(self, components)\u001b[0m\n\u001b[0;32m     77\u001b[0m \u001b[38;5;28;01mdef\u001b[39;00m\u001b[38;5;250m \u001b[39m\u001b[38;5;21mget_resource_parameters\u001b[39m(\u001b[38;5;28mself\u001b[39m, components) \u001b[38;5;241m-\u001b[39m\u001b[38;5;241m>\u001b[39m \u001b[38;5;28mdict\u001b[39m:\n\u001b[0;32m     78\u001b[0m     all_resources_parameters \u001b[38;5;241m=\u001b[39m \u001b[38;5;28mself\u001b[39m\u001b[38;5;241m.\u001b[39mget_resource_distribution_parameters()\n\u001b[1;32m---> 79\u001b[0m     transfer_services \u001b[38;5;241m=\u001b[39m \u001b[38;5;28;43mself\u001b[39;49m\u001b[38;5;241;43m.\u001b[39;49m\u001b[43mget_transfer_services\u001b[49m\u001b[43m(\u001b[49m\u001b[43mcomponents\u001b[49m\u001b[43m,\u001b[49m\u001b[43m \u001b[49m\u001b[43mall_resources_parameters\u001b[49m\u001b[43m)\u001b[49m\n\u001b[0;32m     80\u001b[0m     non_transfer_services \u001b[38;5;241m=\u001b[39m \u001b[38;5;28mself\u001b[39m\u001b[38;5;241m.\u001b[39mget_non_transfer_services(components, all_resources_parameters, transfer_services)\n\u001b[0;32m     81\u001b[0m     \u001b[38;5;28;01mreturn\u001b[39;00m {\u001b[38;5;241m*\u001b[39m\u001b[38;5;241m*\u001b[39mtransfer_services, \u001b[38;5;241m*\u001b[39m\u001b[38;5;241m*\u001b[39mnon_transfer_services}\n",
      "File \u001b[1;32mc:\\Users\\zhut\\OneDrive - Stanford\\Research\\02 Work\\05 Commercial downtime\\Pyrecodes\\pyrecodes-main\\pyrecodes\\system_creator\\concrete_system_creator.py:89\u001b[0m, in \u001b[0;36mConcreteSystemCreator.get_transfer_services\u001b[1;34m(self, components, all_resources_parameters)\u001b[0m\n\u001b[0;32m     87\u001b[0m         resources[resource_name] \u001b[38;5;241m=\u001b[39m \u001b[38;5;28mdict\u001b[39m()        \n\u001b[0;32m     88\u001b[0m         resources[resource_name][\u001b[38;5;124m'\u001b[39m\u001b[38;5;124mGroup\u001b[39m\u001b[38;5;124m'\u001b[39m] \u001b[38;5;241m=\u001b[39m resource_parameters[\u001b[38;5;124m'\u001b[39m\u001b[38;5;124mGroup\u001b[39m\u001b[38;5;124m'\u001b[39m]\n\u001b[1;32m---> 89\u001b[0m         resources[resource_name][\u001b[38;5;124m'\u001b[39m\u001b[38;5;124mDistributionModel\u001b[39m\u001b[38;5;124m'\u001b[39m] \u001b[38;5;241m=\u001b[39m \u001b[38;5;28;43mself\u001b[39;49m\u001b[38;5;241;43m.\u001b[39;49m\u001b[43mget_resource_distribution_model\u001b[49m\u001b[43m(\u001b[49m\u001b[43mresource_name\u001b[49m\u001b[43m,\u001b[49m\u001b[43m \u001b[49m\u001b[43mresource_parameters\u001b[49m\u001b[43m,\u001b[49m\u001b[43m \u001b[49m\u001b[43mcomponents\u001b[49m\u001b[43m)\u001b[49m                \n\u001b[0;32m     90\u001b[0m \u001b[38;5;28;01mreturn\u001b[39;00m resources\n",
      "File \u001b[1;32mc:\\Users\\zhut\\OneDrive - Stanford\\Research\\02 Work\\05 Commercial downtime\\Pyrecodes\\pyrecodes-main\\pyrecodes\\system_creator\\concrete_system_creator.py:106\u001b[0m, in \u001b[0;36mConcreteSystemCreator.get_resource_distribution_model\u001b[1;34m(self, resource_name, resource_parameters, components)\u001b[0m\n\u001b[0;32m    104\u001b[0m \u001b[38;5;28;01mdef\u001b[39;00m\u001b[38;5;250m \u001b[39m\u001b[38;5;21mget_resource_distribution_model\u001b[39m(\u001b[38;5;28mself\u001b[39m, resource_name: \u001b[38;5;28mstr\u001b[39m, resource_parameters: \u001b[38;5;28mdict\u001b[39m, components: \u001b[38;5;28mlist\u001b[39m[Component]) \u001b[38;5;241m-\u001b[39m\u001b[38;5;241m>\u001b[39m ResourceDistributionModel:\n\u001b[0;32m    105\u001b[0m     target_distribution_model \u001b[38;5;241m=\u001b[39m get_class(resource_parameters[\u001b[38;5;124m'\u001b[39m\u001b[38;5;124mDistributionModel\u001b[39m\u001b[38;5;124m'\u001b[39m][\u001b[38;5;124m'\u001b[39m\u001b[38;5;124mFileName\u001b[39m\u001b[38;5;124m'\u001b[39m], resource_parameters[\u001b[38;5;124m'\u001b[39m\u001b[38;5;124mDistributionModel\u001b[39m\u001b[38;5;124m'\u001b[39m][\u001b[38;5;124m'\u001b[39m\u001b[38;5;124mClassName\u001b[39m\u001b[38;5;124m'\u001b[39m], \u001b[38;5;124m'\u001b[39m\u001b[38;5;124mresource_distribution_model\u001b[39m\u001b[38;5;124m'\u001b[39m)\n\u001b[1;32m--> 106\u001b[0m     \u001b[38;5;28;01mreturn\u001b[39;00m \u001b[43mtarget_distribution_model\u001b[49m\u001b[43m(\u001b[49m\u001b[43mresource_name\u001b[49m\u001b[43m,\u001b[49m\u001b[43m \u001b[49m\u001b[43mresource_parameters\u001b[49m\u001b[43m[\u001b[49m\u001b[38;5;124;43m'\u001b[39;49m\u001b[38;5;124;43mDistributionModel\u001b[39;49m\u001b[38;5;124;43m'\u001b[39;49m\u001b[43m]\u001b[49m\u001b[43m[\u001b[49m\u001b[38;5;124;43m'\u001b[39;49m\u001b[38;5;124;43mParameters\u001b[39;49m\u001b[38;5;124;43m'\u001b[39;49m\u001b[43m]\u001b[49m\u001b[43m,\u001b[49m\u001b[43m \u001b[49m\u001b[43mcomponents\u001b[49m\u001b[43m)\u001b[49m\n",
      "File \u001b[1;32mc:\\Users\\zhut\\OneDrive - Stanford\\Research\\02 Work\\05 Commercial downtime\\Pyrecodes\\pyrecodes-main\\pyrecodes\\resource_distribution_model\\residual_demand_traffic_distribution_model.py:17\u001b[0m, in \u001b[0;36mResidualDemandTrafficDistributionModel.__init__\u001b[1;34m(self, resource_name, resource_parameters, components)\u001b[0m\n\u001b[0;32m     15\u001b[0m \u001b[38;5;28mself\u001b[39m\u001b[38;5;241m.\u001b[39mspatial_resource_aggregator \u001b[38;5;241m=\u001b[39m SpatialResourceAggregator()\n\u001b[0;32m     16\u001b[0m \u001b[38;5;28mself\u001b[39m\u001b[38;5;241m.\u001b[39mtravel_times \u001b[38;5;241m=\u001b[39m []\n\u001b[1;32m---> 17\u001b[0m \u001b[38;5;28;43mself\u001b[39;49m\u001b[38;5;241;43m.\u001b[39;49m\u001b[43mconnect_buildings_to_traffic_nodes\u001b[49m\u001b[43m(\u001b[49m\u001b[43m)\u001b[49m\n",
      "File \u001b[1;32mc:\\Users\\zhut\\OneDrive - Stanford\\Research\\02 Work\\05 Commercial downtime\\Pyrecodes\\pyrecodes-main\\pyrecodes\\resource_distribution_model\\residual_demand_traffic_distribution_model.py:21\u001b[0m, in \u001b[0;36mResidualDemandTrafficDistributionModel.connect_buildings_to_traffic_nodes\u001b[1;34m(self)\u001b[0m\n\u001b[0;32m     19\u001b[0m \u001b[38;5;28;01mdef\u001b[39;00m\u001b[38;5;250m \u001b[39m\u001b[38;5;21mconnect_buildings_to_traffic_nodes\u001b[39m(\u001b[38;5;28mself\u001b[39m) \u001b[38;5;241m-\u001b[39m\u001b[38;5;241m>\u001b[39m \u001b[38;5;28;01mNone\u001b[39;00m:\n\u001b[0;32m     20\u001b[0m     \u001b[38;5;28mself\u001b[39m\u001b[38;5;241m.\u001b[39mbuilding_to_traffic_node_dict \u001b[38;5;241m=\u001b[39m {}\n\u001b[1;32m---> 21\u001b[0m     \u001b[38;5;28;01mfor\u001b[39;00m index, building \u001b[38;5;129;01min\u001b[39;00m \u001b[38;5;28;43mself\u001b[39;49m\u001b[38;5;241;43m.\u001b[39;49m\u001b[43mflow_simulator\u001b[49m\u001b[38;5;241;43m.\u001b[39;49m\u001b[43mbuilding_df\u001b[49m\u001b[38;5;241m.\u001b[39miterrows():\n\u001b[0;32m     22\u001b[0m         \u001b[38;5;28;01mfor\u001b[39;00m component \u001b[38;5;129;01min\u001b[39;00m \u001b[38;5;28mself\u001b[39m\u001b[38;5;241m.\u001b[39mcomponents:\n\u001b[0;32m     23\u001b[0m             \u001b[38;5;28;01mif\u001b[39;00m \u001b[38;5;28misinstance\u001b[39m(component, R2DBuilding) \u001b[38;5;129;01mand\u001b[39;00m component\u001b[38;5;241m.\u001b[39maim_id \u001b[38;5;241m==\u001b[39m building[\u001b[38;5;124m'\u001b[39m\u001b[38;5;124mAIM_id\u001b[39m\u001b[38;5;124m'\u001b[39m]:\n",
      "\u001b[1;31mAttributeError\u001b[0m: 'pyrecodes_residual_demand' object has no attribute 'building_df'"
     ]
    }
   ],
   "source": [
    "from pyrecodes import main\n",
    "\n",
    "system = main.run('./Example 5_business/SmallAlameda_Main.json')\n",
    "# system = main.run('./Example 5_business/Alameda_Main.json')\n",
    "\n",
    "system.calculate_resilience()"
   ]
  },
  {
   "cell_type": "code",
   "execution_count": null,
   "metadata": {},
   "outputs": [],
   "source": [
    "from pyrecodes.geovisualizer.r2d_geovisualizer import R2D_GeoVisualizer\n",
    "geo_visualizer = R2D_GeoVisualizer(system.components)\n",
    "geo_visualizer.plot_component_localities()\n",
    "\n",
    "time_steps_to_plot = list(range(1, 50, 2)) + list(range(50, system.time_step, 20)) + [system.time_step]\n",
    "\n",
    "create_time_step_building_figures = True\n",
    "create_recovery_gif = True\n",
    "\n",
    "for time_step in time_steps_to_plot: \n",
    "    if create_time_step_building_figures:\n",
    "        geo_visualizer.create_current_state_buildings_and_supply_demand_figure(time_step, system, resources_to_plot=['Shelter', 'PotableWater'], units=['[beds/day]', '[m^3/day]'], show=False, save=True, dpi=50)\n",
    "    \n",
    "if create_recovery_gif:\n",
    "    # To create a gif, you need to have the time_step figures already created.\n",
    "    # They are created using the geo_visualisator.create_current_state_buildings_and_supply_demand_figure method with the save=True and show=False option.\n",
    "    geo_visualizer.create_recovery_gif(time_steps_to_plot, fps=3)"
   ]
  },
  {
   "cell_type": "code",
   "execution_count": null,
   "metadata": {},
   "outputs": [],
   "source": [
    "from pyrecodes.plotter.concrete_plotter import ConcretePlotter\n",
    "\n",
    "plotter_object = ConcretePlotter()\n",
    "resources_to_plot = ['TransportationService', 'Shelter', 'PotableWater',  'RepairCrew_Buildings', 'RepairCrew_Water', 'RepairCrew_Transportation']\n",
    "units = ['[trip/day]', '[beds/day]', '[m^3/day]', '[RC/day]', '[RC/day]', '[RC/day]']\n",
    "plotter_object.plot_supply_demand_dynamics(system, resources_to_plot, units)\n",
    "plotter_object.plot_gantt_chart(system.components[:20])"
   ]
  }
 ],
 "metadata": {
  "kernelspec": {
   "display_name": "pyrecodes_env",
   "language": "python",
   "name": "python3"
  },
  "language_info": {
   "codemirror_mode": {
    "name": "ipython",
    "version": 3
   },
   "file_extension": ".py",
   "mimetype": "text/x-python",
   "name": "python",
   "nbconvert_exporter": "python",
   "pygments_lexer": "ipython3",
   "version": "3.9.21"
  },
  "orig_nbformat": 4
 },
 "nbformat": 4,
 "nbformat_minor": 2
}
